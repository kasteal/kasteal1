{
 "cells": [
  {
   "cell_type": "markdown",
   "id": "a2eee2b2",
   "metadata": {},
   "source": [
    "## Расчёт Касинуса с помощью ряда Тейлора \n",
    "    напишем функцию которая сичтает косинус с помощью разложения в ряд тейлора"
   ]
  },
  {
   "cell_type": "code",
   "execution_count": 1,
   "id": "d2bb94e7",
   "metadata": {},
   "outputs": [
    {
     "name": "stdout",
     "output_type": "stream",
     "text": [
      "0.9210609940028851\n",
      "0.921060994002885\n"
     ]
    }
   ],
   "source": [
    "import math\n",
    "import matplotlib.pyplot as mpp\n",
    "import numpy \n",
    "\n",
    "ITERATIONS = 50\n",
    "\n",
    "def mycos(x):\n",
    "  value = 0\n",
    "  multiplayr = 1 \n",
    "  sign = 1\n",
    "  for i in range(0, ITERATIONS):\n",
    "    value += sign * (multiplayr / math.factorial(2 * i))\n",
    "    sign *= -1 \n",
    "    multiplayr *= x**2\n",
    "  return value \n",
    "\n",
    "print( math.cos(0.4)) \n",
    "print (mycos(0.4))"
   ]
  },
  {
   "cell_type": "markdown",
   "id": "734b339c",
   "metadata": {},
   "source": [
    "## Вычсление косинуса комплексного аргумента \n",
    "проверим можем ли мы работать с комплексными числами(правильно)"
   ]
  },
  {
   "cell_type": "code",
   "execution_count": 2,
   "id": "cf1ed3df",
   "metadata": {},
   "outputs": [
    {
     "name": "stdout",
     "output_type": "stream",
     "text": [
      "(5+0j)\n",
      "(5.000000000000001+0j)\n"
     ]
    }
   ],
   "source": [
    "import math\n",
    "import matplotlib.pyplot as mpp\n",
    "import numpy \n",
    "import cmath \n",
    "\n",
    "ITERATIONS = 50\n",
    "\n",
    "def mycos(x):\n",
    "  value = 0\n",
    "  multiplayr = 1 \n",
    "  sign = 1\n",
    "  for i in range(0, ITERATIONS):\n",
    "    value += sign * (multiplayr / math.factorial(2 * i))\n",
    "    sign *= -1 \n",
    "    multiplayr *= x**2\n",
    "  return value \n",
    "\n",
    "argument = cmath.acos(5)\n",
    "print(cmath.cos(argument))\n",
    "print(mycos(argument))"
   ]
  },
  {
   "cell_type": "markdown",
   "id": "846fcdbb",
   "metadata": {},
   "source": [
    "## Ошибки нашего алгоритма \n",
    "при больших значениеях аргумента расхождения косинуса и нашего косинуса большое "
   ]
  },
  {
   "cell_type": "code",
   "execution_count": 3,
   "id": "868091e8",
   "metadata": {},
   "outputs": [
    {
     "data": {
      "image/png": "[encoded data removed]",
      "text/plain": [
       "<Figure size 432x288 with 1 Axes>"
      ]
     },
     "metadata": {
      "needs_background": "light"
     },
     "output_type": "display_data"
    }
   ],
   "source": [
    "import math\n",
    "import matplotlib.pyplot as mpp\n",
    "import numpy \n",
    "import cmath \n",
    "\n",
    "ITERATIONS = 50\n",
    "\n",
    "def mycos(x):\n",
    "  value = 0\n",
    "  multiplayr = 1 \n",
    "  sign = 1\n",
    "  for i in range(0, ITERATIONS):\n",
    "    value += sign * (multiplayr / math.factorial(2 * i))\n",
    "    sign *= -1 \n",
    "    multiplayr *= x**2\n",
    "  return value \n",
    "\n",
    "\n",
    "argumments = numpy.arange(0,50,0.1)\n",
    "mpp.plot(argumments,[math.cos(a) for a in argumments])\n",
    "mpp.plot(argumments, [mycos(a) for a in argumments])\n",
    "mpp.show()"
   ]
  },
  {
   "cell_type": "code",
   "execution_count": null,
   "id": "021c1780",
   "metadata": {},
   "outputs": [],
   "source": []
  }
 ],
 "metadata": {
  "kernelspec": {
   "display_name": "Python 3 (ipykernel)",
   "language": "python",
   "name": "python3"
  },
  "language_info": {
   "codemirror_mode": {
    "name": "ipython",
    "version": 3
   },
   "file_extension": ".py",
   "mimetype": "text/x-python",
   "name": "python",
   "nbconvert_exporter": "python",
   "pygments_lexer": "ipython3",
   "version": "3.9.7"
  }
 },
 "nbformat": 4,
 "nbformat_minor": 5
}
